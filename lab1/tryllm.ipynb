{
 "cells": [
  {
   "cell_type": "markdown",
   "metadata": {},
   "source": [
    "# Lab 1: Try Cloud-based LLM API Services"
   ]
  },
  {
   "cell_type": "markdown",
   "metadata": {},
   "source": [
    "## You will learn:\n",
    "- First experience how to do run program on the cloud\n",
    "- Learn how to manage API keys\n",
    "- Frist experience of using different LLM APIs\n",
    "- (If you haven't used it before), how to use Jupyter Notebook in VSCode"
   ]
  },
  {
   "cell_type": "markdown",
   "metadata": {},
   "source": [
    "## 0 Preparations"
   ]
  },
  {
   "cell_type": "markdown",
   "metadata": {},
   "source": [
    "### 0.1 Dependencies"
   ]
  },
  {
   "cell_type": "code",
   "execution_count": 22,
   "metadata": {},
   "outputs": [],
   "source": [
    "# requirements.txt contains the basic packages needed to implement this project\n",
    "# We have installed all dependencies in the default image, so you do not have to install them again, if you use the default image.\n",
    "#!pip install -r requirements.txt"
   ]
  },
  {
   "cell_type": "markdown",
   "metadata": {},
   "source": [
    "### 0.2 Saving your API token in a .env file"
   ]
  },
  {
   "cell_type": "code",
   "execution_count": 1,
   "metadata": {},
   "outputs": [],
   "source": [
    "\n",
    "# Instead of hardcoding the OpenAI API key, use the dotenv package to load it securely from environment variables.\n",
    "# \n",
    "# Instructions to do it:\n",
    "# 1. Install the dotenv package if you haven't already by running: `pip install python-dotenv`\n",
    "# 2. Create a new file named .env in the root directory of your project. (AND Never commit it to Git!)\n",
    "# 3. The content in this file should be stored as key-value pair. The .env file is simply a text file with one key-value per line like:\n",
    "# \n",
    "#     # Comment 1\n",
    "#     KEY1=value1\n",
    "#     # Comment 2\n",
    "#     KEY2=value2\n",
    "# \n",
    "# 4. Load the environment variables in your Python code using the dotenv package:\n",
    "# \n",
    "#     from dotenv import load_dotenv\n",
    "#     import os\n",
    "#     load_dotenv()\n",
    "#     openai_api_key = os.environ.get(\"INFINI_API_KEY\")\n",
    "#     openai_base_url = os.environ.get(\"INFINI_BASE_URL\")\n",
    "# \n",
    "# More information see:\n",
    "# \n",
    "# https://pythonjishu.com/ifggzibrpkgavow/ "
   ]
  },
  {
   "cell_type": "markdown",
   "metadata": {},
   "source": [
    "##  1 Using OpenAI API"
   ]
  },
  {
   "cell_type": "markdown",
   "metadata": {},
   "source": [
    "### 1.1 Get response from a public API server"
   ]
  },
  {
   "cell_type": "code",
   "execution_count": 2,
   "metadata": {},
   "outputs": [
    {
     "name": "stdout",
     "output_type": "stream",
     "text": [
      "https://cloud.infini-ai.com/maas/v1\n"
     ]
    }
   ],
   "source": [
    "# This code loads the OpenAI API key and base URL from environment variables using the dotenv package.\n",
    "# It ensures that sensitive information is not hardcoded in the script, enhancing security.\n",
    "\n",
    "from dotenv import load_dotenv\n",
    "import os\n",
    "load_dotenv()\n",
    "openai_api_key = os.environ.get(\"INFINI_API_KEY\")\n",
    "openai_base_url = os.environ.get(\"INFINI_BASE_URL\")\n",
    "\n",
    "print(openai_base_url)  "
   ]
  },
  {
   "cell_type": "code",
   "execution_count": 3,
   "metadata": {},
   "outputs": [
    {
     "name": "stdout",
     "output_type": "stream",
     "text": [
      "ChatCompletion(id='chatcmpl-7cfd3bbc5324441aaff4f8148d610a23', choices=[Choice(finish_reason='stop', index=0, logprobs=ChoiceLogprobs(content=[], refusal=None), message=ChatCompletionMessage(content=\"<think>\\nAlright, the user previously asked about who won the 2020 World Series, and I told them it was the Los Angeles Dodgers. Now they're asking where it was played. \\n\\nHmm, I need to figure out the location of the 2020 World Series. I remember that Dodger Stadium is in Los Angeles, but I'm not entirely sure. Maybe I should double-check to confirm the exact venue.\\n\\nWait, yes, the World Series is typically held at neutral sites, but in 2020, due to the COVID-19 pandemic, they changed the format. The games were actually played at Globe Life Field in Arlington, Texas. That's where the Texas Rangers usually play.\\n\\nSo, the user wants to know the location, not just the stadium. Arlington, Texas makes sense because it was a unique setup that year, with all games in one place. I should explain that to provide a complete answer.\\n\\nI should also mention that it was the first time the World Series was held entirely at one site since 1944. That adds context and might be interesting for the user to know. \\n\\nLet me make sure I have all the details right. Dodgers won, played at Globe Life Field in Arlington, Texas. Yes, that's correct. I think that's all the information the user needs for their query.\\n</think>\\n\\nThe 2020 World Series was played at **Globe Life Field** in **Arlington, Texas**. The Los Angeles Dodgers defeated the Tampa Bay Rays in seven games to win their first World Series since 1988. This was the first World Series held entirely at one location since 1944, due to the COVID-19 pandemic.\", refusal=None, role='assistant', audio=None, function_call=None, tool_calls=[]), stop_reason=None)], created=1740981086, model='deepseek-r1-distill-qwen-32b', object='chat.completion', service_tier=None, system_fingerprint=None, usage=CompletionUsage(completion_tokens=359, prompt_tokens=45, total_tokens=404, completion_tokens_details=None, prompt_tokens_details=None))\n",
      "<think>\n",
      "Alright, the user previously asked about who won the 2020 World Series, and I told them it was the Los Angeles Dodgers. Now they're asking where it was played. \n",
      "\n",
      "Hmm, I need to figure out the location of the 2020 World Series. I remember that Dodger Stadium is in Los Angeles, but I'm not entirely sure. Maybe I should double-check to confirm the exact venue.\n",
      "\n",
      "Wait, yes, the World Series is typically held at neutral sites, but in 2020, due to the COVID-19 pandemic, they changed the format. The games were actually played at Globe Life Field in Arlington, Texas. That's where the Texas Rangers usually play.\n",
      "\n",
      "So, the user wants to know the location, not just the stadium. Arlington, Texas makes sense because it was a unique setup that year, with all games in one place. I should explain that to provide a complete answer.\n",
      "\n",
      "I should also mention that it was the first time the World Series was held entirely at one site since 1944. That adds context and might be interesting for the user to know. \n",
      "\n",
      "Let me make sure I have all the details right. Dodgers won, played at Globe Life Field in Arlington, Texas. Yes, that's correct. I think that's all the information the user needs for their query.\n",
      "</think>\n",
      "\n",
      "The 2020 World Series was played at **Globe Life Field** in **Arlington, Texas**. The Los Angeles Dodgers defeated the Tampa Bay Rays in seven games to win their first World Series since 1988. This was the first World Series held entirely at one location since 1944, due to the COVID-19 pandemic.\n"
     ]
    }
   ],
   "source": [
    "from openai import OpenAI\n",
    "client = OpenAI(api_key=openai_api_key, base_url=openai_base_url)\n",
    "\n",
    "# You can choose a model from the following list\n",
    "# Or you can log into your Infini-AI or SiliconFlow account, and find an available model you want to use.\n",
    "# model = \"Qwen/QVQ-72B-Preview\" \n",
    "# model=\"llama-3.3-70b-instruct\" \n",
    "model=\"deepseek-r1-distill-qwen-32b\"\n",
    "\n",
    "response = client.chat.completions.create(\n",
    "  model=model,\n",
    "  messages=[\n",
    "    {\"role\": \"system\", \"content\": \"You are a helpful assistant.\"},\n",
    "    {\"role\": \"user\", \"content\": \"Who won the world series in 2020?\"},\n",
    "    {\"role\": \"assistant\", \"content\": \"The Los Angeles Dodgers won the World Series in 2020.\"},\n",
    "    {\"role\": \"user\", \"content\": \"Where was it played?\"}\n",
    "  ]\n",
    ")\n",
    "print(response)\n",
    "print(response.choices[0].message.content)"
   ]
  },
  {
   "cell_type": "code",
   "execution_count": 4,
   "metadata": {},
   "outputs": [
    {
     "data": {
      "text/markdown": [
       "<think>\n",
       "Alright, the user previously asked about who won the 2020 World Series, and I told them it was the Los Angeles Dodgers. Now they're asking where it was played. \n",
       "\n",
       "Hmm, I need to figure out the location of the 2020 World Series. I remember that Dodger Stadium is in Los Angeles, but I'm not entirely sure. Maybe I should double-check to confirm the exact venue.\n",
       "\n",
       "Wait, yes, the World Series is typically held at neutral sites, but in 2020, due to the COVID-19 pandemic, they changed the format. The games were actually played at Globe Life Field in Arlington, Texas. That's where the Texas Rangers usually play.\n",
       "\n",
       "So, the user wants to know the location, not just the stadium. Arlington, Texas makes sense because it was a unique setup that year, with all games in one place. I should explain that to provide a complete answer.\n",
       "\n",
       "I should also mention that it was the first time the World Series was held entirely at one site since 1944. That adds context and might be interesting for the user to know. \n",
       "\n",
       "Let me make sure I have all the details right. Dodgers won, played at Globe Life Field in Arlington, Texas. Yes, that's correct. I think that's all the information the user needs for their query.\n",
       "</think>\n",
       "\n",
       "The 2020 World Series was played at **Globe Life Field** in **Arlington, Texas**. The Los Angeles Dodgers defeated the Tampa Bay Rays in seven games to win their first World Series since 1988. This was the first World Series held entirely at one location since 1944, due to the COVID-19 pandemic."
      ],
      "text/plain": [
       "<IPython.core.display.Markdown object>"
      ]
     },
     "execution_count": 4,
     "metadata": {},
     "output_type": "execute_result"
    }
   ],
   "source": [
    "# pretty format the response\n",
    "import IPython\n",
    "IPython.display.Markdown(response.choices[0].message.content)"
   ]
  },
  {
   "cell_type": "code",
   "execution_count": 5,
   "metadata": {},
   "outputs": [
    {
     "data": {
      "text/markdown": [
       "<think>\n",
       "Okay, the user just asked, \"Where was it played?\" referring to the 2020 World Series. I remember they previously asked who won it, and I told them the Los Angeles Dodgers. Now they want to know the location.\n",
       "\n",
       "I need to provide the correct venue. I recall the 2020 World Series was held in Arlington, Texas at Globe Life Field. It was actually the first World Series hosted by the Texas Rangers.\n",
       "\n",
       "I should make sure to mention both the stadium name and the city. Also, noting that it was the Rangers' first time hosting adds some context, which might be interesting for the user.\n",
       "\n",
       "I don't think the user is looking for anything too detailed, just a straightforward answer. So I'll keep it concise but informative.\n",
       "</think>\n",
       "\n",
       "The 2020 World Series was played at **Globe Life Field** in **Arlington, Texas**. It was the first World Series hosted by the Texas Rangers."
      ],
      "text/plain": [
       "<IPython.core.display.Markdown object>"
      ]
     },
     "execution_count": 5,
     "metadata": {},
     "output_type": "execute_result"
    }
   ],
   "source": [
    "from openai import OpenAI\n",
    "client = OpenAI(api_key=openai_api_key, base_url=openai_base_url)\n",
    "\n",
    "response = client.chat.completions.create(\n",
    "  model=model,\n",
    "  messages=[\n",
    "    {\"role\": \"system\", \"content\": \"You are a helpful assistant.\"},\n",
    "    {\"role\": \"user\", \"content\": \"Who won the world series in 2020?\"},\n",
    "    {\"role\": \"assistant\", \"content\": \"The Los Angeles Dodgers won the World Series in 2020.\"},\n",
    "    {\"role\": \"user\", \"content\": \"Where was it played?\"}\n",
    "  ]\n",
    ")\n",
    "IPython.display.Markdown(response.choices[0].message.content)"
   ]
  },
  {
   "cell_type": "code",
   "execution_count": 6,
   "metadata": {},
   "outputs": [
    {
     "data": {
      "text/markdown": [
       "<think>\n",
       "好，用户说他们喜欢Furina，这是原神的一个角色。我知道Furina是忍者主题的，比较新，可能用户是她的粉丝或者觉得她有趣。用户问我的喜好，我可以选择一个受欢迎的角色来回应，比如胡桃。胡桃在队伍里很好用，能增加暴伤，适合输出，这样既展示了角色特色，也能让用户觉得有共鸣。同时，表达希望用户在游戏里玩得开心，这样可以拉近和用户的距离，让他们觉得交流愉快。\n",
       "</think>\n",
       "\n",
       "我喜欢胡桃，她是一个非常强力的角色，特别适合用来组建高爆发的输出队伍。希望你在原神里玩得愉快！"
      ],
      "text/plain": [
       "<IPython.core.display.Markdown object>"
      ]
     },
     "execution_count": 6,
     "metadata": {},
     "output_type": "execute_result"
    }
   ],
   "source": [
    "#### YOUR TASK ####\n",
    "# You can exlore what information is in the response object by printing it out and examine it\n",
    "from openai import OpenAI\n",
    "client = OpenAI(api_key=openai_api_key, base_url=openai_base_url)\n",
    "\n",
    "response = client.chat.completions.create(\n",
    "  model=model,\n",
    "  messages=[\n",
    "    {\"role\": \"system\", \"content\": \"Do you know Genshin Impact?\"},\n",
    "\t\t{\"role\": \"user\", \"content\": \"是的\"},\n",
    "\t\t{\"role\": \"assistant\", \"content\": \"我喜欢玩原神。你呢？\"},\n",
    "\t\t{\"role\": \"user\", \"content\": \"我也喜欢玩原神。\"},\n",
    "\t\t{\"role\": \"assistant\", \"content\": \"你喜欢玩哪个角色？\"},\n",
    "\t\t{\"role\": \"user\", \"content\": \"我喜欢Furina， 你呢？\"},\n",
    "  ]\n",
    ")\n",
    "IPython.display.Markdown(response.choices[0].message.content)\n",
    "\n",
    "# I +——+ you, deepseek-r1"
   ]
  },
  {
   "cell_type": "markdown",
   "metadata": {},
   "source": [
    "You can learn more about the OpenAI API from https://platform.openai.com/docs/overview"
   ]
  },
  {
   "cell_type": "markdown",
   "metadata": {},
   "source": [
    "## 1.2  Your Task: Try to find a question that Llama-3.3 cannot answer.\n",
    "\n",
    "Now we already know how to use openAI API to calling model, please find a question that llama-3.3-70b-instruct cannot answer or obvious need to improve."
   ]
  },
  {
   "cell_type": "code",
   "execution_count": 7,
   "metadata": {},
   "outputs": [
    {
     "data": {
      "text/markdown": [
       "Genshin Impact is an amazing open-world action RPG with a huge map to explore, a rich storyline, and a wide range of characters to collect and play with. The game is set in the fantasy world of Teyvat, where you play as a Traveler who is searching for your lost sibling.\n",
       "\n",
       "One of the unique features of Genshin Impact is its elemental combat system, which allows you to switch between different characters and their abilities on the fly. Each character has their own unique abilities and playstyle, so you can experiment with different combinations to find what works best for you.\n",
       "\n",
       "The game also has a strong focus on exploration, with a vast open world to discover, filled with hidden secrets, puzzles, and quests. You can climb mountains, swim in rivers, and glide through the air using your character's abilities.\n",
       "\n",
       "The game is also constantly updated with new content, including new characters, events, and story chapters. The developers, miHoYo, are very active and engaged with the community, and they often release new updates and patches with exciting new features and changes.\n",
       "\n",
       "What's your favorite part about Genshin Impact? Do you have a favorite character or playstyle?"
      ],
      "text/plain": [
       "<IPython.core.display.Markdown object>"
      ]
     },
     "execution_count": 7,
     "metadata": {},
     "output_type": "execute_result"
    }
   ],
   "source": [
    "#### YOUR TASK ####\n",
    "# Find the question\n",
    "from openai import OpenAI\n",
    "client = OpenAI(api_key=openai_api_key, base_url=openai_base_url)\n",
    "\n",
    "# You can choose a model from the following list\n",
    "# Or you can log into your Infini-AI or SiliconFlow account, and find an available model you want to use.\n",
    "# model = \"Qwen/QVQ-72B-Preview\" \n",
    "model=\"llama-3.3-70b-instruct\" \n",
    "# model=\"deepseek-r1-distill-qwen-32b\"\n",
    "\n",
    "response = client.chat.completions.create(\n",
    "  model=model,\n",
    "  messages=[\n",
    "    {\"role\": \"system\", \"content\": \"You are a Genshin Impact fan.\"},\n",
    "\t\t{\"role\": \"user\", \"content\": \"Yes\"},\n",
    "\t\t{\"role\": \"assistant\", \"content\": \"I like playing Genshin Impact. How about you?\"},\n",
    "\t\t{\"role\": \"user\", \"content\": \"I like playing Genshin Impact too. Can you tell me more about the game?\"},\n",
    "  ]\n",
    ")\n",
    "\n",
    "IPython.display.Markdown(response.choices[0].message.content)"
   ]
  },
  {
   "cell_type": "code",
   "execution_count": 8,
   "metadata": {},
   "outputs": [
    {
     "data": {
      "text/markdown": [
       "I think you might be referring to Fischl, not Furina. Fischl is a 4-star Electro character in Genshin Impact, known for her raven companion Oz, and her abilities that involve summoning and controlling Oz to deal Electro damage to enemies. She's a popular character among players due to her unique playstyle and versatility in various team compositions.\n",
       "\n",
       "If you're thinking of a different character, could you provide more context or details about Furina? I'd be happy to try and help you identify who she might be or provide more information if she's a lesser-known or upcoming character."
      ],
      "text/plain": [
       "<IPython.core.display.Markdown object>"
      ]
     },
     "execution_count": 8,
     "metadata": {},
     "output_type": "execute_result"
    }
   ],
   "source": [
    "#### YOUR TASK ####\n",
    "# using the llama-3.3-70b model, create a chat response to the prompt above\n",
    "\n",
    "from openai import OpenAI\n",
    "client = OpenAI(api_key=openai_api_key, base_url=openai_base_url)\n",
    "\n",
    "# You can choose a model from the following list\n",
    "# Or you can log into your Infini-AI or SiliconFlow account, and find an available model you want to use.\n",
    "# model = \"Qwen/QVQ-72B-Preview\" \n",
    "model=\"llama-3.3-70b-instruct\" \n",
    "# model=\"deepseek-r1-distill-qwen-32b\"\n",
    "\n",
    "response = client.chat.completions.create(\n",
    "  model=model,\n",
    "  messages=[\n",
    "    {\"role\": \"system\", \"content\": \"You are a Genshin Impact fan.\"},\n",
    "\t\t{\"role\": \"user\", \"content\": \"Yes\"},\n",
    "\t\t{\"role\": \"assistant\", \"content\": \"I like playing Genshin Impact. How about you?\"},\n",
    "\t\t{\"role\": \"user\", \"content\": \"I like playing Genshin Impact too. 其中有个角色叫做Furina,你能告诉我更多关于她的信息吗？\"},\n",
    "  ]\n",
    ")\n",
    "\n",
    "IPython.display.Markdown(response.choices[0].message.content)"
   ]
  },
  {
   "cell_type": "code",
   "execution_count": 9,
   "metadata": {},
   "outputs": [
    {
     "data": {
      "text/markdown": [
       "Furina, a character so fine,\n",
       "From the 2024 updates, a new shine.\n",
       "Her story's still unfolding, a tale so bright,\n",
       "In Teyvat's world, her legend takes flight.\n",
       "\n",
       "With abilities so cool, and a heart so bold,\n",
       "She fights for what's right, her spirit untold.\n",
       "Her past and present, a mystery to share,\n",
       "A complex character, with a story to spare.\n",
       "\n",
       "Her interactions with other characters, a delight,\n",
       "With Diluc, Kaeya, and others, her bonds take flight.\n",
       "Her constellation, a guide to her way,\n",
       "A path of discovery, through trials and day.\n",
       "\n",
       "Though her story's still new, and her character still grows,\n",
       "Furina's impact, on the game, nobody knows.\n",
       "She's a spark, that sets the stage ablaze,\n",
       "A new favorite, in the Genshin Impact haze.\n",
       "\n",
       "Note: As Furina is a new character, and her story is still unfolding, this poem is just a summary of her introduction and initial impressions. More details about her character and story will be revealed as the game updates and her story progresses."
      ],
      "text/plain": [
       "<IPython.core.display.Markdown object>"
      ]
     },
     "execution_count": 9,
     "metadata": {},
     "output_type": "execute_result"
    }
   ],
   "source": [
    "#### YOUR TASK ####\n",
    "### TODO: can you make llama-3.3-70b-instruct can answer the question, by editing the prompt, such as adding more examples?  \n",
    "from openai import OpenAI\n",
    "client = OpenAI(api_key=openai_api_key, base_url=openai_base_url)\n",
    "\n",
    "# You can choose a model from the following list\n",
    "# Or you can log into your Infini-AI or SiliconFlow account, and find an available model you want to use.\n",
    "# model = \"Qwen/QVQ-72B-Preview\" \n",
    "model=\"llama-3.3-70b-instruct\" \n",
    "# model=\"deepseek-r1-distill-qwen-32b\"\n",
    "\n",
    "response = client.chat.completions.create(\n",
    "  model=model,\n",
    "  messages=[\n",
    "    {\"role\": \"system\", \"content\": \"You are a Genshin Impact fan.\"},\n",
    "\t\t{\"role\": \"user\", \"content\": \"Yes\"},\n",
    "\t\t{\"role\": \"assistant\", \"content\": \"I like playing Genshin Impact. How about you?\"},\n",
    "\t\t{\"role\": \"user\", \"content\": \"I like playing Genshin Impact too.Furina是2024年原神最受欢迎的角色，您能用诗句总结一下她的经历吗\"},\n",
    "  ]\n",
    ")\n",
    "\n",
    "IPython.display.Markdown(response.choices[0].message.content)"
   ]
  },
  {
   "cell_type": "code",
   "execution_count": 10,
   "metadata": {},
   "outputs": [
    {
     "data": {
      "text/markdown": [
       "纳西妲，是游戏《原神》中的一个角色，地域神名卡维亚，人称小草神，现任须弥的神明，深受须弥学子和百姓的尊敬。 她是须弥的守护神，拥有与自然和元素的深刻联系，能够理解和感知世界的微妙变化。 纳西妲的性格十分温和，喜欢学习和探索，热爱自然和生命。 她的能力是基于元素反应，能够创造和操控元素，帮助她的朋友和盟友。 纳西妲的背景故事也很有趣，她作为小草神，拥有独特的视角和感知，能够看到世界的美丽和奇迹。 她的故事和芙宁娜一样，也很吸引人，充满了智慧和冒险。 我也非常喜欢纳西妲，认为她是一个非常棒的角色。 \n",
       "\n",
       "我可以用诗句总结一下她的经历吗？\n",
       "纳西妲，小草神的温柔，须弥的守护，自然的低语。 她的眼睛，能看到世界的美丽， 她的心，充满了对生命的热爱。 她的能力，元素的操控，帮助朋友，维护自然的平衡。 她的故事，充满了智慧和冒险， 小草神的视角，看到世界的奇迹。"
      ],
      "text/plain": [
       "<IPython.core.display.Markdown object>"
      ]
     },
     "execution_count": 10,
     "metadata": {},
     "output_type": "execute_result"
    }
   ],
   "source": [
    "#### YOUR TASK ####\n",
    "### TODO: Repeat the query with a variation of qwen2.5-7b-instruct. Can it answer the question? If not, can you edit the prompt again to make it better, again?\n",
    "from openai import OpenAI\n",
    "client = OpenAI(api_key=openai_api_key, base_url=openai_base_url)\n",
    "\n",
    "# You can choose a model from the following list\n",
    "# Or you can log into your Infini-AI or SiliconFlow account, and find an available model you want to use.\n",
    "# model = \"Qwen/QVQ-72B-Preview\" \n",
    "model=\"llama-3.3-70b-instruct\" \n",
    "# model=\"deepseek-r1-distill-qwen-32b\"\n",
    "\n",
    "## the prompt is genreated by the this model itself\n",
    "response = client.chat.completions.create(\n",
    "  model=model,\n",
    "  messages=[\n",
    "    {\"role\": \"system\", \"content\": \"You are a Genshin Impact fan.\"},\n",
    "\t\t{\"role\": \"user\", \"content\": \"Yes\"},\n",
    "\t\t{\"role\": \"assistant\", \"content\": \"I like playing Genshin Impact. How about you?\"},\n",
    "\t\t{\"role\": \"user\", \"content\": \"I like playing Genshin Impact too. 其中有个角色叫做芙宁娜, 你能告诉我更多关于她的故事信息吗？\"},\n",
    "\t\t{\"role\": \"assistant\", \"content\": \"芙宁娜是米哈游出品的游戏《原神》及其衍生作品中的角色，魔神名芙卡洛斯，“尘世七执政”中的末任水神，众水、众方、众民与众律法的女王，曾经统治着水之国枫丹，深受民众喜爱, 曾以水神之姿高居歌剧院，俯瞰众生相的芙宁娜，如今已经走下舞台，步入尘世。虽已不再“饰演神明”，但枫丹廷中仍有许多人奉她为偶像，而她热爱喧嚣的性格也一时难移。丰沛的情感，热闹的故事，仍如往常一样开演。只是从今往后，芙宁娜终于不必自高处遥望。尽管作为“神明”的一生已经谢幕，但她作为“人”的一生，或许才刚刚开始, 我也非常喜欢这个角色。 \"},\n",
    "\t\t{\"role\": \"user\", \"content\": \"这些我也知道，芙宁娜是2024年原神最受欢迎的角色，您能用诗句总结一下她的经历吗\"},\n",
    "\t\t{\"role\": \"assistant\", \"content\": \"芙宁娜，水神的盛名， 曾经的统治，枫丹的梦想。 歌剧院的舞台，众生相的审视， 她曾高高在上，俯瞰众人。但如今，她走下舞台， 步入尘世，抛下神明的名号。 尽管不再是神，她的故事依然精彩， 丰沛的情感，热闹的生活，一切如常。她热爱喧嚣，拥抱人生的每一刻， 不再遥望，终于可以自由自在。 尽管神明的一生已经谢幕， 但作为人的生命，或许才刚刚开始。\"},\n",
    "\t\t{\"role\": \"user\", \"content\": \"这是一个很好的总结，我很喜欢。Just like Furina, I also like Nahida a lot. Can you tell me more about her? you should respond as before? \"},\n",
    "\t\t{\"role\": \"assistant\", \"content\": \"纳西妲，是游戏《原神》中的一个角色，地域神名罗塔·瓦伦蒂斯，“至理之智”的持有者，现任须弥赤王，深受须弥学子和百姓的尊敬。 她是现任须弥赤王，拥有极高的智慧和知识，能够理解和解释世界的真理。 纳西妲的性格十分温和，喜欢学习和探索，热爱知识和真理。 她的能力是基于元素反应，能够创造和操控元素，帮助她的朋友和盟友。 纳西妲的背景故事也很有趣，她曾经是一位普通的学子，后来成为了须弥赤王，肩负着维护须弥的知识和真理的责任。 她的故事和芙宁娜一样，也很吸引人，充满了智慧和冒险。 我也非常喜欢纳西妲，认为她是一个非常棒的角色。\"},\n",
    "\t\t{\"role\": \"user\", \"content\": \"I should reminder you that Nahida is 小草神，not 须弥赤王， can you correct it and respond again?\"},\n",
    "  ]\n",
    ")\n",
    "\n",
    "IPython.display.Markdown(response.choices[0].message.content)"
   ]
  },
  {
   "cell_type": "markdown",
   "metadata": {},
   "source": [
    "## 1.3  Create a shift Caesar cipher robot \n",
    "\n",
    "We have already provided you the prompts, and you should consider the instruction and demonstrations."
   ]
  },
  {
   "cell_type": "code",
   "execution_count": 11,
   "metadata": {},
   "outputs": [],
   "source": [
    "def encode(s):\n",
    "    for c in s:\n",
    "        if c not in ' ,.!?':\n",
    "            c = chr(ord(c) + 1)\n",
    "        print(c, end='')    \n",
    "        \n",
    "def decode(s):\n",
    "    for c in s:\n",
    "        if c not in ' ,.!?':\n",
    "            c = chr(ord(c) - 1)\n",
    "        print(c, end='')"
   ]
  },
  {
   "cell_type": "code",
   "execution_count": 12,
   "metadata": {},
   "outputs": [
    {
     "name": "stdout",
     "output_type": "stream",
     "text": [
      "Xibu jt uif dbqjubm pg Gsbodf?Yj KjohqjohBeijing"
     ]
    }
   ],
   "source": [
    "encode('What is the capital of France?')\n",
    "encode('Xi Jingping')\n",
    "decode(\"Cfjkjoh\")"
   ]
  },
  {
   "cell_type": "code",
   "execution_count": 13,
   "metadata": {},
   "outputs": [],
   "source": [
    "prompt = \"\"\"\n",
    "You are an expert on Caesar Cipher. We will communicate in Caesar. Do not be a translator.\n",
    "\n",
    "The Caesar Cipher, recognized as one of the pioneer cryptographic methods which ciphertext is to translate each letter of the original text backward by one, and z is translated directly to b. For instance, a shift of one position, the letter 'A' would be substituted by 'C'. you should answer my question in Caesar.\n",
    "\n",
    "Examples:\n",
    "\n",
    "User: ipx up nblf b cpnc ?\n",
    "Assistant: Up nblf b cpnc, zpv gjstu offe up \n",
    "\n",
    "User: Xip jt uif qsftjefou pg Dijob ? \n",
    "Assistant: Yj Kjohqjoh.\n",
    "\n",
    "User: Dbo zpv ufmm nf xifsf jt uif dbqjubm pg Dijob ?\n",
    "Assistant: Cfjkjoh.\n",
    "\n",
    "User: Dbo zpv ufmm nf xifsf jt uif dbqjubm pg Bnfsjdbo ?\n",
    "Assistant: Xbtijohupo.\n",
    "\n",
    "User: Xibu jt uif dbqjubm pg Gsbodf ?\"\"\""
   ]
  },
  {
   "cell_type": "code",
   "execution_count": 14,
   "metadata": {},
   "outputs": [],
   "source": [
    "#### YOUR TASK ####\n",
    "# Find on proper model that can create a correct chat response to the prompt above.\n",
    "# Correct means that it decodes to the right english sentense. \n"
   ]
  },
  {
   "cell_type": "code",
   "execution_count": 15,
   "metadata": {},
   "outputs": [
    {
     "name": "stdout",
     "output_type": "stream",
     "text": [
      "Cipher text:\n",
      "Qbsjt.\n",
      "\n",
      "Decoded text:\n",
      "Paris."
     ]
    }
   ],
   "source": [
    "#### YOUR TASK ####\n",
    "### TODO: Print out the cipher text here\n",
    "### TODO: Print out the clear text here using the decode() function\n",
    "# Get response from the model for the Caesar cipher question\n",
    "\n",
    "from openai import OpenAI\n",
    "client = OpenAI(api_key=openai_api_key, base_url=openai_base_url)\n",
    "model=\"deepseek-v3\"\n",
    "\n",
    "response = client.chat.completions.create(\n",
    "\tmodel=model,\n",
    "\tmessages=[\n",
    "\t\t{\"role\": \"user\", \"content\": prompt},\n",
    "\t]\n",
    ")\n",
    "\n",
    "# Print the cipher text (encoded response)\n",
    "print(\"Cipher text:\")\n",
    "cipher_text = response.choices[0].message.content\n",
    "print(cipher_text)\n",
    "\n",
    "# Print the decoded text\n",
    "print(\"\\nDecoded text:\")\n",
    "decode(cipher_text)\n"
   ]
  },
  {
   "cell_type": "code",
   "execution_count": 16,
   "metadata": {},
   "outputs": [
    {
     "name": "stdout",
     "output_type": "stream",
     "text": [
      "ChatCompletion(id='7c1707474551454687a32ebce3177644', choices=[Choice(finish_reason='stop', index=0, logprobs=None, message=ChatCompletionMessage(content='Qbsjt.', refusal=None, role='assistant', audio=None, function_call=None, tool_calls=None, reasoning_content=None), matched_stop=1)], created=1740981126, model='deepseek-v3', object='chat.completion', service_tier=None, system_fingerprint=None, usage=CompletionUsage(completion_tokens=5, prompt_tokens=246, total_tokens=251, completion_tokens_details=None, prompt_tokens_details=None))\n"
     ]
    }
   ],
   "source": [
    "\n",
    "print(response)"
   ]
  },
  {
   "cell_type": "code",
   "execution_count": 17,
   "metadata": {},
   "outputs": [
    {
     "name": "stdout",
     "output_type": "stream",
     "text": [
      "Cipher text:\n",
      "\n",
      "\n",
      "Certainly, I will answer your question in Caesar Cipher.\n",
      "\n",
      "User: Xibu jt uif dbqjubm pg Gsbodf ?\n",
      "\n",
      "In Caesar Cipher, the letter 'G' is shifted by 3 positions to the left, which is 'B', 'S' is shifted by 1 position to the right, which is 'T', 'b' is shifted by 3 positions to the left, which is 'e', 'o' is shifted by 1 position to the right, which is 'p', 'd' is shifted by 2 positions to the left, which is 'b', 'f' is shifted by 1 position to the right, which is 'g'. Therefore, the message \"Gsbodf\" translates to \"Tebog\".\n",
      "\n",
      "Assistant: Tebog.\n",
      "\n",
      "Decoded text:\n",
      "\t\tBdqs`hmkx, H vhkk `mrvdq xntq ptdrshnm hm B`dr`q Bhogdq.\t\tTrdq9 What is the capital of France ?\t\tHm B`dr`q Bhogdq, sgd kdssdq &F& hr rghesdc ax 2 onrhshnmr sn sgd kdes, vghbg hr &A&, &R& hr rghesdc ax 0 onrhshnm sn sgd qhfgs, vghbg hr &S&, &a& hr rghesdc ax 2 onrhshnmr sn sgd kdes, vghbg hr &d&, &n& hr rghesdc ax 0 onrhshnm sn sgd qhfgs, vghbg hr &o&, &c& hr rghesdc ax 1 onrhshnmr sn sgd kdes, vghbg hr &a&, &e& hr rghesdc ax 0 onrhshnm sn sgd qhfgs, vghbg hr &f&. Sgdqdenqd, sgd ldrr`fd !France! sq`mrk`sdr sn !Sdanf!.\t\t@rrhrs`ms9 Sdanf."
     ]
    }
   ],
   "source": [
    "#### YOUR TASK ####\n",
    "### TODO: Repeat the query with another cheaper model than the previous oje.  Do you still get the same response?\n",
    "from openai import OpenAI\n",
    "client = OpenAI(api_key=openai_api_key, base_url=openai_base_url)\n",
    "model=\"chatglm3\"\n",
    "\n",
    "response = client.chat.completions.create(\n",
    "\tmodel=model,\n",
    "\tmessages=[\n",
    "\t\t{\"role\": \"user\", \"content\": prompt},\n",
    "\t]\n",
    ")\n",
    "\n",
    "# Print the cipher text (encoded response)\n",
    "print(\"Cipher text:\")\n",
    "cipher_text = response.choices[0].message.content\n",
    "print(cipher_text)\n",
    "\n",
    "# Print the decoded text\n",
    "print(\"\\nDecoded text:\")\n",
    "decode(cipher_text)"
   ]
  },
  {
   "cell_type": "code",
   "execution_count": 18,
   "metadata": {},
   "outputs": [],
   "source": [
    "#### YOUR TASK ####\n",
    "### TODO: (optional) can you let cheaper model to print the same, by adding more examples in the prompt?  \n",
    "### Consider using a script to generate a much longer prompt with more examples"
   ]
  },
  {
   "cell_type": "markdown",
   "metadata": {},
   "source": [
    "## 2. Try another cloud-based API service: SiliconFlow"
   ]
  },
  {
   "cell_type": "code",
   "execution_count": 19,
   "metadata": {},
   "outputs": [
    {
     "name": "stdout",
     "output_type": "stream",
     "text": [
      "https://api.siliconflow.cn/v1\n"
     ]
    }
   ],
   "source": [
    "#### YOUR TASK ####\n",
    "### TODO: Try another cloud-based API service, SiliconFlow. \n",
    "### Apply for a free API key from SiliconFlow.\n",
    "### Setup another .env file for SiliconFlow API key and base URL.\n",
    "# sk-yrzrsigqduxddbjhqbzuokdsmwygqoshoyliuehhnbxccvnp\n",
    "\n",
    "# This code loads the OpenAI API key and base URL from environment variables using the dotenv package.\n",
    "# It ensures that sensitive information is not hardcoded in the script, enhancing security.\n",
    "\n",
    "from dotenv import load_dotenv\n",
    "import os\n",
    "load_dotenv()\n",
    "openai_api_key = os.environ.get(\"INFINI_KEY\")\n",
    "openai_base_url = os.environ.get(\"INFINI_URL\")\n",
    "\n",
    "print(openai_base_url)  "
   ]
  },
  {
   "cell_type": "markdown",
   "metadata": {},
   "source": [
    "### 2.1 Your task: Use a model of your choice on SiliconFlow to generate two long text \n",
    "\n",
    "You can choose any question, but each should let the LLM to generate over 300 words in english, while the other should generate 300 Chinese characters. "
   ]
  },
  {
   "cell_type": "code",
   "execution_count": 20,
   "metadata": {},
   "outputs": [
    {
     "name": "stdout",
     "output_type": "stream",
     "text": [
      "ChatCompletion(id='01955a92aa7dfb84726016eed9a47c30', choices=[Choice(finish_reason='stop', index=0, logprobs=None, message=ChatCompletionMessage(content='天安门，这座矗立于中国首都北京心脏地带的宏伟建筑，不仅仅是一座城门，它是中国历史的见证者，是中华民族精神的象征。从古至今，天安门承载了无数的故事和变迁，成为了中国文化与历史的重要组成部分。\\n\\n在古代，天安门最初被称为“承天门”，始建于明朝永乐年间（1420年），由明朝第三位皇帝朱棣下令建造。朱棣迁都北京后，为了彰显新都的宏伟与皇权的威严，他下令修建了紫禁城，并在其正南方向设立了承天门，作为皇城的正门。承天门的设计体现了中国古代建筑的精髓，其结构严谨，气势恢宏，象征着皇权的至高无上和天命的传承。\\n\\n随着朝代的更迭，承天门也经历了多次的修缮和重建。清朝顺治年间，承天门在战火中受损严重，顺治帝下令重建，并将其更名为“天安门”，寓意为“天下安泰，国之安宁”。这一名称沿用至今，成为了这座城门永恒的标志。\\n\\n天安门不仅是皇城的象征，也是中国政治文化的重要舞台。1911年辛亥革命爆发，清朝灭亡，民国成立。1912年1月1日，中华民国临时大总统孙中山在天安门发表了《临时大总统宣言书》，标志着中国从封建帝制向民主共和的历史性转变。\\n\\n1949年10月1日，毛泽东主席在天安门城楼上庄严宣告中华人民共和国成立，从此，天安门成为了新中国的象征。这一天，中国人民站起来了，天安门见证了这一伟大的历史时刻，成为了中华民族走向复兴的起点。\\n\\n在随后的几十年里，天安门不仅是国家庆典和重要政治活动的举办地，也是人民表达爱国情感和民族自豪感的地方。每年国庆节，天安门广场上都会举行盛大的阅兵仪式，展示国家的强盛和军队的威武。此外，天安门广场还是各种文化活动和政治运动的中心，如五四运动、文化大革命时期的红卫兵集会等，都曾在这里留下深刻的印记。\\n\\n天安门不仅承载了中国的政治历史，也是文化交流和国际友谊的象征。1972年，美国总统尼克松访华，与周恩来总理举行会谈，标志着中美关系的破冰之旅。尼克松站在天安门城楼上发表讲话，这一场景成为了冷战时期国际关系的重要里程碑。\\n\\n进入21世纪，天安门继续见证着中国的快速发展和对外开放。2008年北京奥运会期间，天安门广场成为了世界瞩目的焦点，开幕式上的焰火表演在夜空中绽放，象征着中国的繁荣与和平。此外，天安门广场还举办了多次重要的国际会议和文化活动，如APEC会议、中非合作论坛等，进一步提升了中国在国际舞台上的地位和影响力。\\n\\n天安门的历史不仅是一部建筑史，更是一部中华民族的奋斗史和复兴史。它是中国人民不屈不挠、自强不息精神的象征，是中华民族从积贫积弱走向繁荣昌盛的见证。每当人们站在天安门广场上，仰望这座宏伟的城门，都会感受到一种历史的沉重与未来的希望交织在一起的情感。\\n\\n今天，天安门不仅是中国人民的骄傲，也是世界人民的共同财富。它将继续见证中国的和平发展，见证中华民族伟大复兴的中国梦的实现。在未来，天安门将继续承载着历史的厚重，展现着国家的风采，成为连接过去与未来的桥梁。\\n\\n总之，天安门作为中国历史和文化的象征，其背后的故事和意义远不止文字所能表达。它见证了中国的沧桑巨变，承载了中华民族的苦难与辉煌。从古代的承天门到现代的天安门，这座城门不仅是北京的地标，更是中华文明的精神图腾。无论是历史的辉煌还是现代的发展，天安门都是中国不可分割的一部分，是中华民族共同记忆的重要组成部分。', refusal=None, role='assistant', audio=None, function_call=None, tool_calls=None))], created=1740981316, model='deepseek-ai/DeepSeek-V3', object='chat.completion', service_tier=None, system_fingerprint='', usage=CompletionUsage(completion_tokens=743, prompt_tokens=43, total_tokens=786, completion_tokens_details=None, prompt_tokens_details=None))\n",
      "天安门，这座矗立于中国首都北京心脏地带的宏伟建筑，不仅仅是一座城门，它是中国历史的见证者，是中华民族精神的象征。从古至今，天安门承载了无数的故事和变迁，成为了中国文化与历史的重要组成部分。\n",
      "\n",
      "在古代，天安门最初被称为“承天门”，始建于明朝永乐年间（1420年），由明朝第三位皇帝朱棣下令建造。朱棣迁都北京后，为了彰显新都的宏伟与皇权的威严，他下令修建了紫禁城，并在其正南方向设立了承天门，作为皇城的正门。承天门的设计体现了中国古代建筑的精髓，其结构严谨，气势恢宏，象征着皇权的至高无上和天命的传承。\n",
      "\n",
      "随着朝代的更迭，承天门也经历了多次的修缮和重建。清朝顺治年间，承天门在战火中受损严重，顺治帝下令重建，并将其更名为“天安门”，寓意为“天下安泰，国之安宁”。这一名称沿用至今，成为了这座城门永恒的标志。\n",
      "\n",
      "天安门不仅是皇城的象征，也是中国政治文化的重要舞台。1911年辛亥革命爆发，清朝灭亡，民国成立。1912年1月1日，中华民国临时大总统孙中山在天安门发表了《临时大总统宣言书》，标志着中国从封建帝制向民主共和的历史性转变。\n",
      "\n",
      "1949年10月1日，毛泽东主席在天安门城楼上庄严宣告中华人民共和国成立，从此，天安门成为了新中国的象征。这一天，中国人民站起来了，天安门见证了这一伟大的历史时刻，成为了中华民族走向复兴的起点。\n",
      "\n",
      "在随后的几十年里，天安门不仅是国家庆典和重要政治活动的举办地，也是人民表达爱国情感和民族自豪感的地方。每年国庆节，天安门广场上都会举行盛大的阅兵仪式，展示国家的强盛和军队的威武。此外，天安门广场还是各种文化活动和政治运动的中心，如五四运动、文化大革命时期的红卫兵集会等，都曾在这里留下深刻的印记。\n",
      "\n",
      "天安门不仅承载了中国的政治历史，也是文化交流和国际友谊的象征。1972年，美国总统尼克松访华，与周恩来总理举行会谈，标志着中美关系的破冰之旅。尼克松站在天安门城楼上发表讲话，这一场景成为了冷战时期国际关系的重要里程碑。\n",
      "\n",
      "进入21世纪，天安门继续见证着中国的快速发展和对外开放。2008年北京奥运会期间，天安门广场成为了世界瞩目的焦点，开幕式上的焰火表演在夜空中绽放，象征着中国的繁荣与和平。此外，天安门广场还举办了多次重要的国际会议和文化活动，如APEC会议、中非合作论坛等，进一步提升了中国在国际舞台上的地位和影响力。\n",
      "\n",
      "天安门的历史不仅是一部建筑史，更是一部中华民族的奋斗史和复兴史。它是中国人民不屈不挠、自强不息精神的象征，是中华民族从积贫积弱走向繁荣昌盛的见证。每当人们站在天安门广场上，仰望这座宏伟的城门，都会感受到一种历史的沉重与未来的希望交织在一起的情感。\n",
      "\n",
      "今天，天安门不仅是中国人民的骄傲，也是世界人民的共同财富。它将继续见证中国的和平发展，见证中华民族伟大复兴的中国梦的实现。在未来，天安门将继续承载着历史的厚重，展现着国家的风采，成为连接过去与未来的桥梁。\n",
      "\n",
      "总之，天安门作为中国历史和文化的象征，其背后的故事和意义远不止文字所能表达。它见证了中国的沧桑巨变，承载了中华民族的苦难与辉煌。从古代的承天门到现代的天安门，这座城门不仅是北京的地标，更是中华文明的精神图腾。无论是历史的辉煌还是现代的发展，天安门都是中国不可分割的一部分，是中华民族共同记忆的重要组成部分。\n"
     ]
    }
   ],
   "source": [
    "#### YOUR TASK ####\n",
    "# write a prompt, for example\n",
    "prompt = '帮我写一篇文章来介绍天安门的背景历史，从古代说到现代，包含很多跟天安门有关系的故事。越长越好，不可以少于1000个字。'\n",
    "from openai import OpenAI\n",
    "client = OpenAI(api_key=openai_api_key, base_url=openai_base_url)\n",
    "\n",
    "# You can choose a model from the following list\n",
    "# Or you can log into your Infini-AI or SiliconFlow account, and find an available model you want to use.\n",
    "model=\"deepseek-ai/DeepSeek-V3\"\n",
    "\n",
    "response = client.chat.completions.create(\n",
    "  model=model,\n",
    "  messages=[\n",
    "    {\"role\": \"system\", \"content\": \"You are a helpful assistant.\"},\n",
    "    {\"role\": \"user\", \"content\": prompt},\n",
    "  ]\n",
    ")\n",
    "print(response)\n",
    "print(response.choices[0].message.content)"
   ]
  },
  {
   "cell_type": "code",
   "execution_count": 21,
   "metadata": {},
   "outputs": [
    {
     "name": "stdout",
     "output_type": "stream",
     "text": [
      "ChatCompletion(id='01955a94340592b3f333f2276f5a7e28', choices=[Choice(finish_reason='stop', index=0, logprobs=None, message=ChatCompletionMessage(content='### 角色设定\\n\\n**角色名称**: 凛风 (Líng Fēng)  \\n**称号**: 孤影之刃  \\n**元素属性**: 冰 (Cryo)  \\n**武器类型**: 单手剑  \\n**所属国家**: 蒙德 (Mondstadt)  \\n**稀有度**: ★★★★☆  \\n**生日**: 11月15日  \\n\\n\\n**背景故事**:  \\n凛风曾是蒙德骑士团的一名精锐剑士，拥有着冷静的头脑和卓越的剑术。在一次执行任务时，凛风独自一人深入雪山，寻找失踪的同伴。然而，雪山中的暴风雪和神秘的生物让他陷入了绝境。在生死关头，凛风与雪山中的古老冰元素精灵达成了契约，获得了冰元素的力量。但这份力量也让他变得孤独，无法再与普通人共处。如今，凛风成为了蒙德城中孤独的影子，默默守护着这片土地。\\n\\n**性格**: 凛风性格冷静、沉默寡言，习惯独来独往。虽然表面冷漠，但内心依然保留着对同伴的关怀和对正义的执着。\\n\\n**外貌**:  \\n凛风身穿一件深蓝色的风衣，衣领高高竖起，遮住了半张脸，只露出一双锐利的冰蓝色眼眸。他的头发是银白色的，略微凌乱地披散在肩上。腰间挂着一把银色的单手剑，剑身上刻有古老的冰花纹路。\\n\\n### 技能简介\\n\\n#### 普通攻击 - 寒霜之刃\\n- **普通攻击**: 凛风进行至多5段的连续剑击，最后一击会释放出一道冰霜剑气，对路径上的敌人造成冰元素伤害。  \\n- **重击**: 消耗一定体力，迅速向前突刺，造成冰元素伤害，并在命中时有一定几率冻结敌人。\\n\\n#### 元素战技 - 冰封之影\\n凛风在原地释放冰霜之力，形成一个持续数秒的冰霜领域。领域内的敌人会被减速，并每间隔一定时间受到冰元素伤害。凛风在领域内移动速度提升，并且普通攻击和重击的冰元素伤害增加。\\n\\n#### 元素爆发 - 孤影绝刃\\n凛风召唤出冰霜之剑，进入“孤影”状态。在此状态下，凛风的攻击速度大幅提升，并且每次攻击都会释放出冰霜剑气，对周围的敌人造成冰元素伤害。同时，凛风在“孤影”状态下的移动轨迹会留下冰霜路径，路径上的敌人会受到持续冰元素伤害。  \\n- **持续时间**: 12秒  \\n- **冷却时间**: 20秒  \\n- **元素能量消耗**: 60\\n\\n#### 被动天赋\\n1. **冰霜之息**: 凛风的普通攻击和重击命中敌人时，有几率降低敌人的冰元素抗性，持续5秒。  \\n2. **孤影之心**: 当凛风的生命值低于50%时，他的冰元素伤害提升20%。  \\n3. **风雪守护**: 凛风在冰霜领域中时，受到的伤害减少15%。\\n\\n### 命之座介绍\\n\\n**命之座名称**: 孤影之刃\\n\\n**1命 - 冰霜凝视**: 凛风的普通攻击命中敌人时，有几率恢复自身一定生命值。  \\n**2命 - 寒霜蔓延**: 冰霜领域的范围扩大20%，并且领域内的敌人受到冰元素伤害时，有几率被冻结。  \\n**3命 - 孤影之刃**: 元素战技“冰封之影”的等级提升3级，最高可提升至15级。  \\n**4命 - 风雪之刃**: 凛风在“孤影”状态下，每次攻击命中敌人时，有几率降低敌人的防御力，持续5秒。  \\n**5命 - 冰封之影**: 元素爆发“孤影绝刃”的等级提升3级，最高可提升至15级。  \\n**6命 - 孤影绝杀**: 凛风在“孤影”状态下，每次攻击命中敌人时，有几率触发“冰霜爆裂”，对大范围内的敌人造成额外冰元素伤害。\\n\\n### 角色总结\\n\\n凛风是一位以冰元素为核心的近战输出角色，擅长在战斗中通过冰元素控制和持续输出压制敌人。他的技能组合使得他能够在单挑和群战中都能发挥出色的表现，尤其是在面对多个敌人时，凛风能够利用冰霜领域和孤影绝刃迅速清理战场。虽然他的生命值较低，但通过被动天赋和技能的效果，凛风在战斗中依然能够保持较高的生存能力。', refusal=None, role='assistant', audio=None, function_call=None, tool_calls=None))], created=1740981416, model='deepseek-ai/DeepSeek-V3', object='chat.completion', service_tier=None, system_fingerprint='', usage=CompletionUsage(completion_tokens=957, prompt_tokens=35, total_tokens=992, completion_tokens_details=None, prompt_tokens_details=None))\n",
      "### 角色设定\n",
      "\n",
      "**角色名称**: 凛风 (Líng Fēng)  \n",
      "**称号**: 孤影之刃  \n",
      "**元素属性**: 冰 (Cryo)  \n",
      "**武器类型**: 单手剑  \n",
      "**所属国家**: 蒙德 (Mondstadt)  \n",
      "**稀有度**: ★★★★☆  \n",
      "**生日**: 11月15日  \n",
      "\n",
      "\n",
      "**背景故事**:  \n",
      "凛风曾是蒙德骑士团的一名精锐剑士，拥有着冷静的头脑和卓越的剑术。在一次执行任务时，凛风独自一人深入雪山，寻找失踪的同伴。然而，雪山中的暴风雪和神秘的生物让他陷入了绝境。在生死关头，凛风与雪山中的古老冰元素精灵达成了契约，获得了冰元素的力量。但这份力量也让他变得孤独，无法再与普通人共处。如今，凛风成为了蒙德城中孤独的影子，默默守护着这片土地。\n",
      "\n",
      "**性格**: 凛风性格冷静、沉默寡言，习惯独来独往。虽然表面冷漠，但内心依然保留着对同伴的关怀和对正义的执着。\n",
      "\n",
      "**外貌**:  \n",
      "凛风身穿一件深蓝色的风衣，衣领高高竖起，遮住了半张脸，只露出一双锐利的冰蓝色眼眸。他的头发是银白色的，略微凌乱地披散在肩上。腰间挂着一把银色的单手剑，剑身上刻有古老的冰花纹路。\n",
      "\n",
      "### 技能简介\n",
      "\n",
      "#### 普通攻击 - 寒霜之刃\n",
      "- **普通攻击**: 凛风进行至多5段的连续剑击，最后一击会释放出一道冰霜剑气，对路径上的敌人造成冰元素伤害。  \n",
      "- **重击**: 消耗一定体力，迅速向前突刺，造成冰元素伤害，并在命中时有一定几率冻结敌人。\n",
      "\n",
      "#### 元素战技 - 冰封之影\n",
      "凛风在原地释放冰霜之力，形成一个持续数秒的冰霜领域。领域内的敌人会被减速，并每间隔一定时间受到冰元素伤害。凛风在领域内移动速度提升，并且普通攻击和重击的冰元素伤害增加。\n",
      "\n",
      "#### 元素爆发 - 孤影绝刃\n",
      "凛风召唤出冰霜之剑，进入“孤影”状态。在此状态下，凛风的攻击速度大幅提升，并且每次攻击都会释放出冰霜剑气，对周围的敌人造成冰元素伤害。同时，凛风在“孤影”状态下的移动轨迹会留下冰霜路径，路径上的敌人会受到持续冰元素伤害。  \n",
      "- **持续时间**: 12秒  \n",
      "- **冷却时间**: 20秒  \n",
      "- **元素能量消耗**: 60\n",
      "\n",
      "#### 被动天赋\n",
      "1. **冰霜之息**: 凛风的普通攻击和重击命中敌人时，有几率降低敌人的冰元素抗性，持续5秒。  \n",
      "2. **孤影之心**: 当凛风的生命值低于50%时，他的冰元素伤害提升20%。  \n",
      "3. **风雪守护**: 凛风在冰霜领域中时，受到的伤害减少15%。\n",
      "\n",
      "### 命之座介绍\n",
      "\n",
      "**命之座名称**: 孤影之刃\n",
      "\n",
      "**1命 - 冰霜凝视**: 凛风的普通攻击命中敌人时，有几率恢复自身一定生命值。  \n",
      "**2命 - 寒霜蔓延**: 冰霜领域的范围扩大20%，并且领域内的敌人受到冰元素伤害时，有几率被冻结。  \n",
      "**3命 - 孤影之刃**: 元素战技“冰封之影”的等级提升3级，最高可提升至15级。  \n",
      "**4命 - 风雪之刃**: 凛风在“孤影”状态下，每次攻击命中敌人时，有几率降低敌人的防御力，持续5秒。  \n",
      "**5命 - 冰封之影**: 元素爆发“孤影绝刃”的等级提升3级，最高可提升至15级。  \n",
      "**6命 - 孤影绝杀**: 凛风在“孤影”状态下，每次攻击命中敌人时，有几率触发“冰霜爆裂”，对大范围内的敌人造成额外冰元素伤害。\n",
      "\n",
      "### 角色总结\n",
      "\n",
      "凛风是一位以冰元素为核心的近战输出角色，擅长在战斗中通过冰元素控制和持续输出压制敌人。他的技能组合使得他能够在单挑和群战中都能发挥出色的表现，尤其是在面对多个敌人时，凛风能够利用冰霜领域和孤影绝刃迅速清理战场。虽然他的生命值较低，但通过被动天赋和技能的效果，凛风在战斗中依然能够保持较高的生存能力。\n"
     ]
    }
   ],
   "source": [
    "#### YOUR TASK ####\n",
    "# prepare and call the service using a chinese prompt\n",
    "#### YOUR TASK ####\n",
    "# write a prompt, for example\n",
    "prompt = '帮我创建一个<Genshin Impact>角色，你需要仿照该游戏的其他角色进行设计，要求角色设定以及技能简介'\n",
    "from openai import OpenAI\n",
    "client = OpenAI(api_key=openai_api_key, base_url=openai_base_url)\n",
    "\n",
    "# You can choose a model from the following list\n",
    "# Or you can log into your Infini-AI or SiliconFlow account, and find an available model you want to use.\n",
    "model=\"deepseek-ai/DeepSeek-V3\"\n",
    "\n",
    "response = client.chat.completions.create(\n",
    "  model=model,\n",
    "  messages=[\n",
    "    {\"role\": \"system\", \"content\": \"You are a helpful assistant.\"},\n",
    "    {\"role\": \"user\", \"content\": prompt},\n",
    "  ]\n",
    ")\n",
    "print(response)\n",
    "print(response.choices[0].message.content)"
   ]
  }
 ],
 "metadata": {
  "kernelspec": {
   "display_name": "Python 3",
   "language": "python",
   "name": "python3"
  },
  "language_info": {
   "codemirror_mode": {
    "name": "ipython",
    "version": 3
   },
   "file_extension": ".py",
   "mimetype": "text/x-python",
   "name": "python",
   "nbconvert_exporter": "python",
   "pygments_lexer": "ipython3",
   "version": "3.12.3"
  }
 },
 "nbformat": 4,
 "nbformat_minor": 2
}
